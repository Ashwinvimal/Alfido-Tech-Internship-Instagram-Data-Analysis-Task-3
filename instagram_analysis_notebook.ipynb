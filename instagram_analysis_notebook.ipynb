{
 "cells": [
  {
   "cell_type": "code",
   "execution_count": null,
   "id": "81f98526",
   "metadata": {},
   "outputs": [],
   "source": [
    "import pandas as pd\n",
    "import matplotlib.pyplot as plt\n",
    "import seaborn as sns\n",
    "\n",
    "# 📌 Visualization Setup\n",
    "plt.style.use(\"ggplot\")\n",
    "plt.rcParams['figure.figsize'] = (10, 5)\n"
   ]
  },
  {
   "cell_type": "code",
   "execution_count": null,
   "id": "30b8d27c",
   "metadata": {},
   "outputs": [],
   "source": [
    "# 📂 Load Datasets\n",
    "users = pd.read_csv(\"C:/Users/luxmi/Downloads/users.csv\")\n",
    "photos = pd.read_csv(\"C:/Users/luxmi/Downloads/photos.csv\")\n",
    "likes = pd.read_csv(\"C:/Users/luxmi/Downloads/likes.csv\")\n",
    "comments = pd.read_csv(\"C:/Users/luxmi/Downloads/comments.csv\")\n",
    "follows = pd.read_csv(\"C:/Users/luxmi/Downloads/follows.csv\")\n",
    "photo_tags = pd.read_csv(\"C:/Users/luxmi/Downloads/photo_tags.csv\")\n",
    "tags = pd.read_csv(\"C:/Users/luxmi/Downloads/tags.csv\")\n"
   ]
  },
  {
   "cell_type": "code",
   "execution_count": null,
   "id": "2cf7ff6f",
   "metadata": {},
   "outputs": [],
   "source": [
    "# 🧹 Rename Inconsistent Column Names\n",
    "photos.rename(columns={'user ID': 'user_id'}, inplace=True)\n",
    "likes.rename(columns={'photo': 'photo_id'}, inplace=True)\n",
    "comments.rename(columns={'Photo id': 'photo_id'}, inplace=True)\n",
    "tags['tag text'] = tags['tag text'].str.lower()\n"
   ]
  },
  {
   "cell_type": "code",
   "execution_count": null,
   "id": "87c49cc5",
   "metadata": {},
   "outputs": [],
   "source": [
    "# 📊 1. Top 10 Users by Photo Uploads - Horizontal Bar Chart\n",
    "top_users = photos['user_id'].value_counts().head(10)\n",
    "top_users.sort_values().plot(kind='barh', color='slateblue')\n",
    "plt.title(\"Top 10 Users by Photo Uploads\")\n",
    "plt.xlabel(\"Number of Photos\")\n",
    "plt.ylabel(\"User ID\")\n",
    "plt.tight_layout()\n",
    "plt.show()\n"
   ]
  },
  {
   "cell_type": "code",
   "execution_count": null,
   "id": "bfaa0fe0",
   "metadata": {},
   "outputs": [],
   "source": [
    "# ❤️ 2. Top 10 Most Liked Photos - Pie Chart\n",
    "top_liked = likes['photo_id'].value_counts().head(10)\n",
    "plt.pie(top_liked, labels=top_liked.index, autopct='%1.1f%%', startangle=140, colors=sns.color_palette(\"pastel\"))\n",
    "plt.title(\"Top 10 Most Liked Photos\")\n",
    "plt.axis('equal')\n",
    "plt.tight_layout()\n",
    "plt.show()\n"
   ]
  },
  {
   "cell_type": "code",
   "execution_count": null,
   "id": "5ce96c38",
   "metadata": {},
   "outputs": [],
   "source": [
    "# 💬 3. Top 10 Most Commented Photos - Line Chart\n",
    "top_commented = comments['photo_id'].value_counts().head(10)\n",
    "plt.plot(top_commented.index.astype(str), top_commented.values, marker='o', linestyle='--', color='teal')\n",
    "plt.title(\"Top 10 Most Commented Photos\")\n",
    "plt.xlabel(\"Photo ID\")\n",
    "plt.ylabel(\"Comments\")\n",
    "plt.grid(True)\n",
    "plt.tight_layout()\n",
    "plt.show()\n"
   ]
  },
  {
   "cell_type": "code",
   "execution_count": null,
   "id": "bb876a12",
   "metadata": {},
   "outputs": [],
   "source": [
    "# 🏷️ 4. Most Used Tags - Dot Plot (Seaborn Stripplot)\n",
    "most_tags = tags['tag text'].value_counts().head(10).reset_index()\n",
    "most_tags.columns = ['Tag', 'Count']\n",
    "sns.stripplot(x=\"Count\", y=\"Tag\", data=most_tags, size=10, color='darkorange')\n",
    "plt.title(\"Most Used Tags\")\n",
    "plt.tight_layout()\n",
    "plt.show()\n"
   ]
  },
  {
   "cell_type": "code",
   "execution_count": null,
   "id": "ac9fe084",
   "metadata": {},
   "outputs": [],
   "source": [
    "# 📍 5. Top 10 Locations by Tag Usage - Horizontal Bar Chart\n",
    "top_locations = tags['location'].value_counts().head(10)\n",
    "top_locations.sort_values().plot(kind='barh', color='mediumseagreen')\n",
    "plt.title(\"Top 10 Locations by Tag Usage\")\n",
    "plt.xlabel(\"Tag Count\")\n",
    "plt.ylabel(\"Location\")\n",
    "plt.tight_layout()\n",
    "plt.show()\n"
   ]
  }
 ],
 "metadata": {},
 "nbformat": 4,
 "nbformat_minor": 5
}
